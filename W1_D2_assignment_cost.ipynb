{
  "nbformat": 4,
  "nbformat_minor": 0,
  "metadata": {
    "colab": {
      "name": "W1_D2_assignment_cost.ipynb",
      "provenance": [],
      "collapsed_sections": [],
      "include_colab_link": true
    },
    "kernelspec": {
      "name": "python3",
      "display_name": "Python 3"
    }
  },
  "cells": [
    {
      "cell_type": "markdown",
      "metadata": {
        "id": "view-in-github",
        "colab_type": "text"
      },
      "source": [
        "<a href=\"https://colab.research.google.com/github/ShaimaM/Intro_to_ML/blob/main/W1_D2_assignment_cost.ipynb\" target=\"_parent\"><img src=\"https://colab.research.google.com/assets/colab-badge.svg\" alt=\"Open In Colab\"/></a>"
      ]
    },
    {
      "cell_type": "code",
      "metadata": {
        "id": "0DBsWMnDfWJN"
      },
      "source": [
        "%%capture\n",
        "# STARTER CODE - RUN THIS CELL - DO NOT CHANGE\n",
        "!pip install category_encoders\n",
        "import seaborn as sns\n",
        "import pandas as pd\n",
        "import numpy as np\n",
        "import matplotlib.pyplot as plt\n",
        "import category_encoders as ce\n",
        "from sklearn.linear_model import LinearRegression, LogisticRegression\n",
        "from sklearn.preprocessing import StandardScaler\n",
        "from sklearn.model_selection import train_test_split\n",
        "from sklearn.pipeline import make_pipeline\n",
        "from sklearn.metrics import mean_squared_error, mean_absolute_error, accuracy_score, accuracy_score, recall_score, precision_score\n",
        "df_r = sns.load_dataset(\"tips\").dropna()\n",
        "df_c = sns.load_dataset(\"titanic\").dropna()\n",
        "model_r = LinearRegression()\n",
        "model_c = LogisticRegression()\n",
        "x_train_r, x_test_r, y_train_r, y_test_r = train_test_split(df_r.drop(\"total_bill\", axis=1), df_r[\"total_bill\"])\n",
        "x_train_c, x_test_c, y_train_c, y_test_c = train_test_split(df_c.drop([\"survived\", \"alive\", \"adult_male\"], axis=1), df_c[\"survived\"])\n",
        "pipe_r = make_pipeline(ce.OrdinalEncoder(), StandardScaler(), LinearRegression()).fit(x_train_r, y_train_r)\n",
        "pipe_c = make_pipeline(ce.OrdinalEncoder(), StandardScaler(), LogisticRegression()).fit(x_train_c, y_train_c)\n",
        "y_pred_r = pipe_r.predict(x_test_r)\n",
        "y_pred_c = pipe_c.predict(x_test_c)"
      ],
      "execution_count": 1,
      "outputs": []
    },
    {
      "cell_type": "markdown",
      "metadata": {
        "id": "JA6ub2bZemNP"
      },
      "source": [
        "# Cost Functions\n",
        "\n",
        "- Without importing any libraries please write a cost function for each of the following listed below.\n",
        "- Do not refrence ANY online resources other than whats provided\n",
        "\n",
        "You can only use these resources, `pandas` and `numpy` to make your functions:\n",
        "- [Mean Squared Error](https://en.wikipedia.org/wiki/Mean_squared_error)\n",
        "- [Mean Absolute Error](https://en.wikipedia.org/wiki/Mean_absolute_error)\n",
        "- [Root Mean Squared Error](https://en.wikipedia.org/wiki/Root-mean-square_deviation)\n",
        "- [Residual Sum of Squares](https://en.wikipedia.org/wiki/Residual_sum_of_squares)\n",
        "- [Precision, Recall, Accuracy](https://en.wikipedia.org/wiki/Confusion_matrix)\n",
        "- [Scikit-Learn](https://scikit-learn.org/stable/index.html)"
      ]
    },
    {
      "cell_type": "markdown",
      "metadata": {
        "id": "39_TltPpf60I"
      },
      "source": [
        "#### Regression Cost Functions\n",
        "\n",
        "- Use `y_test_r` as your true labels\n",
        "- Use `y_pred_r` as your predicted labels"
      ]
    },
    {
      "cell_type": "markdown",
      "metadata": {
        "id": "bn3uH_KWJgwz"
      },
      "source": [
        ""
      ]
    },
    {
      "cell_type": "code",
      "metadata": {
        "id": "LgU4Ke0Cd3gw",
        "colab": {
          "base_uri": "https://localhost:8080/"
        },
        "outputId": "a86b884d-fe29-4471-865e-f9d4c30a3051"
      },
      "source": [
        "# Create a Mean Squared Error Function\n",
        "def mse(y_true, y_pred):\n",
        "  # actual - predected\n",
        "    mse_f = (y_true - y_pred) ** 2\n",
        "    return np.mean(mse_f)\n",
        "\n",
        "mse(y_test_r, y_pred_r)"
      ],
      "execution_count": 2,
      "outputs": [
        {
          "output_type": "execute_result",
          "data": {
            "text/plain": [
              "27.038449278177147"
            ]
          },
          "metadata": {
            "tags": []
          },
          "execution_count": 2
        }
      ]
    },
    {
      "cell_type": "code",
      "metadata": {
        "id": "Eyp3WVY_tuBz",
        "colab": {
          "base_uri": "https://localhost:8080/"
        },
        "outputId": "e3d8ae44-8fe9-4340-ba2e-20c521e752b6"
      },
      "source": [
        "# Your Mean Squared Error function should equal this value\n",
        "mean_squared_error(y_test_r, y_pred_r)"
      ],
      "execution_count": 3,
      "outputs": [
        {
          "output_type": "execute_result",
          "data": {
            "text/plain": [
              "27.03844927817715"
            ]
          },
          "metadata": {
            "tags": []
          },
          "execution_count": 3
        }
      ]
    },
    {
      "cell_type": "code",
      "metadata": {
        "id": "n-B-pkxtfAtI",
        "colab": {
          "base_uri": "https://localhost:8080/"
        },
        "outputId": "d55e0937-d4fd-48cc-dbed-e182c498f092"
      },
      "source": [
        "# Create a Mean Absolute Error Function\n",
        "def mae(y_true, y_pred):\n",
        "    return np.mean(abs(y_true - y_pred))\n",
        "\n",
        "mae(y_test_r, y_pred_r)"
      ],
      "execution_count": 4,
      "outputs": [
        {
          "output_type": "execute_result",
          "data": {
            "text/plain": [
              "3.979273692964824"
            ]
          },
          "metadata": {
            "tags": []
          },
          "execution_count": 4
        }
      ]
    },
    {
      "cell_type": "code",
      "metadata": {
        "id": "8ZzkyvrSuCkc",
        "colab": {
          "base_uri": "https://localhost:8080/"
        },
        "outputId": "5d93a759-581e-4ed1-a4ca-d765f064fd02"
      },
      "source": [
        "# Your Mean Absolute Error function should equal this value\n",
        "mean_absolute_error(y_test_r, y_pred_r)"
      ],
      "execution_count": 5,
      "outputs": [
        {
          "output_type": "execute_result",
          "data": {
            "text/plain": [
              "3.979273692964824"
            ]
          },
          "metadata": {
            "tags": []
          },
          "execution_count": 5
        }
      ]
    },
    {
      "cell_type": "code",
      "metadata": {
        "id": "w4nobsDJfk4L",
        "colab": {
          "base_uri": "https://localhost:8080/"
        },
        "outputId": "585c2ac3-d802-452b-caa7-763cc8edeae4"
      },
      "source": [
        "# Create a Root Mean Squared Error Function\n",
        "def rmse(y_true, y_pred):\n",
        "    return np.sqrt(np.mean((y_true - y_pred) ** 2))\n",
        "\n",
        "rmse(y_test_r, y_pred_r)"
      ],
      "execution_count": 6,
      "outputs": [
        {
          "output_type": "execute_result",
          "data": {
            "text/plain": [
              "5.199850889994553"
            ]
          },
          "metadata": {
            "tags": []
          },
          "execution_count": 6
        }
      ]
    },
    {
      "cell_type": "code",
      "metadata": {
        "id": "WswkpQCruRyb",
        "colab": {
          "base_uri": "https://localhost:8080/"
        },
        "outputId": "2b028e9c-7c1f-4e24-e0d0-d3c2d0f6953d"
      },
      "source": [
        "# Your Root Mean Squared Error function should equal this value\n",
        "mean_squared_error(y_test_r, y_pred_r, squared=False)"
      ],
      "execution_count": 7,
      "outputs": [
        {
          "output_type": "execute_result",
          "data": {
            "text/plain": [
              "5.199850889994553"
            ]
          },
          "metadata": {
            "tags": []
          },
          "execution_count": 7
        }
      ]
    },
    {
      "cell_type": "code",
      "metadata": {
        "id": "RcuwEx9qd_hq",
        "colab": {
          "base_uri": "https://localhost:8080/"
        },
        "outputId": "4b6406f3-3a05-499d-d3a6-0005ef81c04f"
      },
      "source": [
        "# Create a Sum of Squared Error Function\n",
        "def rss(y_true, y_pred):\n",
        "    return sum((y_true - y_pred) ** 2)\n",
        "\n",
        "rss(y_test_r, y_pred_r)"
      ],
      "execution_count": 8,
      "outputs": [
        {
          "output_type": "execute_result",
          "data": {
            "text/plain": [
              "1649.345405968806"
            ]
          },
          "metadata": {
            "tags": []
          },
          "execution_count": 8
        }
      ]
    },
    {
      "cell_type": "markdown",
      "metadata": {
        "id": "fYpJ2jdYf-Et"
      },
      "source": [
        "#### Classification Cost Functions\n",
        "\n",
        "- Use `y_test_c` as your true labels\n",
        "- Use `y_pred_c` as your predicted labels"
      ]
    },
    {
      "cell_type": "code",
      "metadata": {
        "colab": {
          "base_uri": "https://localhost:8080/"
        },
        "id": "svEKXZLxPtww",
        "outputId": "0ce4ddfa-d75a-4eb6-e46b-2b67c9bb2df7"
      },
      "source": [
        "y_pred_c "
      ],
      "execution_count": 9,
      "outputs": [
        {
          "output_type": "execute_result",
          "data": {
            "text/plain": [
              "array([0, 0, 0, 1, 1, 0, 0, 0, 1, 0, 1, 1, 1, 1, 1, 1, 1, 0, 1, 0, 0, 0,\n",
              "       1, 1, 1, 1, 0, 0, 1, 1, 1, 0, 1, 1, 1, 1, 1, 1, 1, 1, 1, 0, 0, 0,\n",
              "       1, 1])"
            ]
          },
          "metadata": {
            "tags": []
          },
          "execution_count": 9
        }
      ]
    },
    {
      "cell_type": "code",
      "metadata": {
        "colab": {
          "base_uri": "https://localhost:8080/"
        },
        "id": "-Cv9UFHmSCdW",
        "outputId": "3abc1f57-f695-4e90-a1b9-fef51ea60525"
      },
      "source": [
        "y_test_c_1 = np.array(y_test_c)\r\n",
        "y_test_c_1"
      ],
      "execution_count": 10,
      "outputs": [
        {
          "output_type": "execute_result",
          "data": {
            "text/plain": [
              "array([0, 0, 0, 1, 1, 0, 1, 0, 0, 0, 1, 1, 1, 1, 0, 1, 1, 0, 1, 0, 0, 1,\n",
              "       1, 1, 1, 1, 1, 1, 1, 1, 1, 1, 1, 1, 1, 1, 1, 1, 0, 1, 1, 1, 1, 1,\n",
              "       1, 1])"
            ]
          },
          "metadata": {
            "tags": []
          },
          "execution_count": 10
        }
      ]
    },
    {
      "cell_type": "code",
      "metadata": {
        "id": "aipG_B_7h3yI",
        "colab": {
          "base_uri": "https://localhost:8080/"
        },
        "outputId": "8555a423-0f69-41ae-aee9-f96c63214208"
      },
      "source": [
        "# Replace None with the correct value value\n",
        "true_positive = 0\n",
        "true_negative = 0\n",
        "false_positive = 0\n",
        "false_negative = 0\n",
        "\n",
        "# Write a loop to identify true positives, false negatives, false positives, and true negatives\n",
        "for i in range(len(y_pred_c)):\n",
        "  \n",
        "  # True -- Positive \n",
        "  if y_pred_c[i] == 1:\n",
        "    if y_pred_c[i] == y_test_c_1[i]:\n",
        "      # if my predection was true and the actual value is true\n",
        "      true_positive += 1\n",
        "    else:\n",
        "      # if my predection was true and the actual value is false\n",
        "      false_positive += 1\n",
        "\n",
        "  # False -- Negative \n",
        "  else:\n",
        "    if y_pred_c[i] == y_test_c_1[i]:\n",
        "      # if my predection was false and the actual value is false\n",
        "      true_negative += 1\n",
        "    else:\n",
        "      # if my predection was false and the actual value is true\n",
        "      false_negative += 1\n",
        "\n",
        "\n",
        "# Uncomment below when your loop works to see totals of each\n",
        "print(f\"True Positives: {true_positive}\\nTrue Negatives: {true_negative}\\nFalse Positives: {false_positive}\\nFalse Negatives: {false_negative}\")"
      ],
      "execution_count": 11,
      "outputs": [
        {
          "output_type": "stream",
          "text": [
            "True Positives: 26\n",
            "True Negatives: 9\n",
            "False Positives: 3\n",
            "False Negatives: 8\n"
          ],
          "name": "stdout"
        }
      ]
    },
    {
      "cell_type": "code",
      "metadata": {
        "id": "Q3Ctlw2heCig",
        "colab": {
          "base_uri": "https://localhost:8080/"
        },
        "outputId": "5b7e1afb-f6e5-434b-871a-cce8a5b01e7b"
      },
      "source": [
        "# Create A Function to Calculate Precision\n",
        "def precision(TP, FP):\n",
        "    return TP / (TP+FP) \n",
        "\n",
        "precision(true_positive, false_positive)"
      ],
      "execution_count": 12,
      "outputs": [
        {
          "output_type": "execute_result",
          "data": {
            "text/plain": [
              "0.896551724137931"
            ]
          },
          "metadata": {
            "tags": []
          },
          "execution_count": 12
        }
      ]
    },
    {
      "cell_type": "code",
      "metadata": {
        "id": "UpzJxKZJqz9S",
        "colab": {
          "base_uri": "https://localhost:8080/"
        },
        "outputId": "94d675fe-b3c6-486e-a836-107185beb6be"
      },
      "source": [
        "# Your precision function should equal this value\n",
        "precision_score(y_test_c, y_pred_c)"
      ],
      "execution_count": 13,
      "outputs": [
        {
          "output_type": "execute_result",
          "data": {
            "text/plain": [
              "0.896551724137931"
            ]
          },
          "metadata": {
            "tags": []
          },
          "execution_count": 13
        }
      ]
    },
    {
      "cell_type": "code",
      "metadata": {
        "id": "rAX5khvCedHC",
        "colab": {
          "base_uri": "https://localhost:8080/"
        },
        "outputId": "95fb1a2c-ba96-4a8e-8423-84d6b1503561"
      },
      "source": [
        "# Create A Function to Calculate Recall\n",
        "def recall(TP, FN):\n",
        "    return TP / (TP+FN)\n",
        "\n",
        "recall(true_positive, false_negative)"
      ],
      "execution_count": 14,
      "outputs": [
        {
          "output_type": "execute_result",
          "data": {
            "text/plain": [
              "0.7647058823529411"
            ]
          },
          "metadata": {
            "tags": []
          },
          "execution_count": 14
        }
      ]
    },
    {
      "cell_type": "code",
      "metadata": {
        "id": "sPin2Q9Zqk-X",
        "colab": {
          "base_uri": "https://localhost:8080/"
        },
        "outputId": "5bfb0bb1-3cb3-447b-b556-9112a08b4397"
      },
      "source": [
        "# Your recall function should equal this value\n",
        "recall_score(y_test_c, y_pred_c)"
      ],
      "execution_count": 15,
      "outputs": [
        {
          "output_type": "execute_result",
          "data": {
            "text/plain": [
              "0.7647058823529411"
            ]
          },
          "metadata": {
            "tags": []
          },
          "execution_count": 15
        }
      ]
    },
    {
      "cell_type": "code",
      "metadata": {
        "id": "RQ8YleBTegvn",
        "colab": {
          "base_uri": "https://localhost:8080/"
        },
        "outputId": "2763e9fd-e4d7-4f45-ae18-e1fde78be04f"
      },
      "source": [
        "# Create a Function to Calculate Accuracy\n",
        "def accuracy(TP, FP, TN, FN):\n",
        "    return (TN + TP) / (TP+TN+FP+FN)\n",
        "\n",
        "accuracy(true_positive, false_positive, true_negative, false_negative)"
      ],
      "execution_count": 16,
      "outputs": [
        {
          "output_type": "execute_result",
          "data": {
            "text/plain": [
              "0.7608695652173914"
            ]
          },
          "metadata": {
            "tags": []
          },
          "execution_count": 16
        }
      ]
    },
    {
      "cell_type": "code",
      "metadata": {
        "id": "tzNMG0PmqSkn",
        "colab": {
          "base_uri": "https://localhost:8080/"
        },
        "outputId": "d6511656-9b2e-475e-a159-7ddfabc2c43e"
      },
      "source": [
        "# Your accuracy score function should equal this value\n",
        "accuracy_score(y_test_c, y_pred_c)"
      ],
      "execution_count": 17,
      "outputs": [
        {
          "output_type": "execute_result",
          "data": {
            "text/plain": [
              "0.7608695652173914"
            ]
          },
          "metadata": {
            "tags": []
          },
          "execution_count": 17
        }
      ]
    }
  ]
}